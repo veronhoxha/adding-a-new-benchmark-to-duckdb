{
 "cells": [
  {
   "cell_type": "markdown",
   "metadata": {},
   "source": [
    "# Adding a New Benchmark to DuckDB"
   ]
  },
  {
   "cell_type": "markdown",
   "metadata": {},
   "source": [
    "## Imports"
   ]
  },
  {
   "cell_type": "code",
   "execution_count": 1,
   "metadata": {},
   "outputs": [],
   "source": [
    "import duckdb\n",
    "import pandas as pd\n",
    "import os\n",
    "import time\n",
    "import json\n",
    "import plotly.express as px"
   ]
  },
  {
   "cell_type": "code",
   "execution_count": 2,
   "metadata": {},
   "outputs": [],
   "source": [
    "scale_factors = [1, 5, 10]\n",
    "tables = [\"customer\", \"supplier\", \"part\", \"date\", \"lineorder\"]\n",
    "base_path = \"./data/\""
   ]
  },
  {
   "cell_type": "markdown",
   "metadata": {},
   "source": [
    "## Creating separate databases and loading the data"
   ]
  },
  {
   "cell_type": "code",
   "execution_count": 3,
   "metadata": {},
   "outputs": [
    {
     "name": "stdout",
     "output_type": "stream",
     "text": [
      "Creating database databases/ssb_sf1.db for scale factor 1\n",
      "Processing data for scale factor: 1\n",
      "Loaded data into customer table from ./data/sf1/customer.tbl.\n",
      "Loaded data into supplier table from ./data/sf1/supplier.tbl.\n",
      "Loaded data into part table from ./data/sf1/part.tbl.\n",
      "Loaded data into date table from ./data/sf1/date.tbl.\n",
      "Loaded data into lineorder table from ./data/sf1/lineorder.tbl.\n",
      "Database size for scale factor 1: 141 MB \n",
      "\n",
      "Creating database databases/ssb_sf5.db for scale factor 5\n",
      "Processing data for scale factor: 5\n",
      "Loaded data into customer table from ./data/sf5/customer.tbl.\n",
      "Loaded data into supplier table from ./data/sf5/supplier.tbl.\n",
      "Loaded data into part table from ./data/sf5/part.tbl.\n",
      "Loaded data into date table from ./data/sf5/date.tbl.\n",
      "Loaded data into lineorder table from ./data/sf5/lineorder.tbl.\n",
      "Database size for scale factor 5: 720 MB \n",
      "\n",
      "Creating database databases/ssb_sf10.db for scale factor 10\n",
      "Processing data for scale factor: 10\n",
      "Loaded data into customer table from ./data/sf10/customer.tbl.\n",
      "Loaded data into supplier table from ./data/sf10/supplier.tbl.\n",
      "Loaded data into part table from ./data/sf10/part.tbl.\n",
      "Loaded data into date table from ./data/sf10/date.tbl.\n",
      "Loaded data into lineorder table from ./data/sf10/lineorder.tbl.\n",
      "Database size for scale factor 10: 1445 MB \n",
      "\n"
     ]
    }
   ],
   "source": [
    "for sf in scale_factors:\n",
    "    db_name = f\"databases/ssb_sf{sf}.db\"\n",
    "    print(f\"Creating database {db_name} for scale factor {sf}\")\n",
    "    \n",
    "    if os.path.exists(db_name):\n",
    "        os.remove(db_name)\n",
    "    \n",
    "    con = duckdb.connect(db_name)\n",
    "    \n",
    "    for table in tables:\n",
    "        con.execute(f\"DROP TABLE IF EXISTS {table}\")\n",
    "    \n",
    "    con.execute(\"\"\"\n",
    "    CREATE TABLE customer (\n",
    "        c_custkey INTEGER,\n",
    "        c_name VARCHAR,\n",
    "        c_address VARCHAR,\n",
    "        c_city VARCHAR,\n",
    "        c_nation VARCHAR,\n",
    "        c_region VARCHAR,\n",
    "        c_phone VARCHAR,\n",
    "        c_mktsegment VARCHAR\n",
    "    );\n",
    "    \"\"\")\n",
    "\n",
    "    con.execute(\"\"\"\n",
    "    CREATE TABLE supplier (\n",
    "        s_suppkey INTEGER,\n",
    "        s_name VARCHAR,\n",
    "        s_address VARCHAR,\n",
    "        s_city VARCHAR,\n",
    "        s_nation VARCHAR,\n",
    "        s_region VARCHAR,\n",
    "        s_phone VARCHAR\n",
    "    );\n",
    "    \"\"\")\n",
    "\n",
    "    con.execute(\"\"\"\n",
    "    CREATE TABLE part (\n",
    "        p_partkey INTEGER,\n",
    "        p_name VARCHAR,\n",
    "        p_mfgr VARCHAR,\n",
    "        p_category VARCHAR,\n",
    "        p_brand VARCHAR,\n",
    "        p_color VARCHAR,\n",
    "        p_type VARCHAR,\n",
    "        p_size INTEGER,\n",
    "        p_container VARCHAR\n",
    "    );\n",
    "    \"\"\")\n",
    "\n",
    "    con.execute(\"\"\"\n",
    "    CREATE TABLE date (\n",
    "        d_datekey DATE,\n",
    "        d_date VARCHAR,\n",
    "        d_dayofweek VARCHAR,\n",
    "        d_month VARCHAR,\n",
    "        d_year INTEGER,\n",
    "        d_yearmonthnum INTEGER,\n",
    "        d_yearmonth VARCHAR,\n",
    "        d_daynuminweek INTEGER,\n",
    "        d_daynuminmonth INTEGER,\n",
    "        d_daynuminyear INTEGER,\n",
    "        d_monthnuminyear INTEGER,\n",
    "        d_weeknuminyear INTEGER,\n",
    "        d_sellingseason VARCHAR,\n",
    "        d_lastdayinweekfl INTEGER,\n",
    "        d_lastdayinmonthfl INTEGER,\n",
    "        d_holidayfl INTEGER,\n",
    "        d_weekdayfl INTEGER\n",
    "    );\n",
    "    \"\"\")\n",
    "\n",
    "    con.execute(\"\"\"\n",
    "    CREATE TABLE lineorder (\n",
    "        lo_orderkey INTEGER,\n",
    "        lo_linenumber INTEGER,\n",
    "        lo_custkey INTEGER,\n",
    "        lo_partkey INTEGER,\n",
    "        lo_suppkey INTEGER,\n",
    "        lo_orderdate DATE,\n",
    "        lo_orderpriority VARCHAR,\n",
    "        lo_shippriority VARCHAR,\n",
    "        lo_quantity INTEGER,\n",
    "        lo_extendedprice INTEGER,\n",
    "        lo_ordtotalprice BIGINT,\n",
    "        lo_discount INTEGER,\n",
    "        lo_revenue BIGINT,\n",
    "        lo_supplycost BIGINT,\n",
    "        lo_tax INTEGER,\n",
    "        lo_commitdate DATE,\n",
    "        lo_shipmode VARCHAR\n",
    "    );\n",
    "    \"\"\")\n",
    "    \n",
    "    data_path = f\"{base_path}sf{sf}/\"\n",
    "    print(f\"Processing data for scale factor: {sf}\")\n",
    "    \n",
    "    for table in tables:\n",
    "        file_path = os.path.join(data_path, f\"{table}.tbl\")\n",
    "        \n",
    "        if os.path.exists(file_path):\n",
    "            con.execute(f\"COPY {table} FROM '{file_path}' (DELIMITER ',', NULL '', FORMAT 'csv');\")\n",
    "            print(f\"Loaded data into {table} table from {file_path}.\")\n",
    "        else:\n",
    "            print(f\"Data file for {table} not found at {file_path}.\")\n",
    "    \n",
    "    con.close()\n",
    "    db_size = os.path.getsize(db_name)\n",
    "    print(f\"Database size for scale factor {sf}: {db_size / (1024 * 1024):.0f} MB \\n\")"
   ]
  },
  {
   "cell_type": "code",
   "execution_count": 4,
   "metadata": {},
   "outputs": [
    {
     "data": {
      "application/vnd.plotly.v1+json": {
       "config": {
        "plotlyServerURL": "https://plot.ly"
       },
       "data": [
        {
         "alignmentgroup": "True",
         "hovertemplate": "Scale Factor=%{x}<br>Size (MB)=%{text}<extra></extra>",
         "legendgroup": "",
         "marker": {
          "color": "#636efa",
          "pattern": {
           "shape": ""
          }
         },
         "name": "",
         "offsetgroup": "",
         "orientation": "v",
         "showlegend": false,
         "text": [
          141,
          720,
          1445
         ],
         "textposition": "inside",
         "texttemplate": "%{text:.0f} MB",
         "type": "bar",
         "x": [
          1,
          5,
          10
         ],
         "xaxis": "x",
         "y": [
          141,
          720,
          1445
         ],
         "yaxis": "y"
        }
       ],
       "layout": {
        "barmode": "relative",
        "legend": {
         "tracegroupgap": 0
        },
        "margin": {
         "t": 60
        },
        "template": {
         "data": {
          "bar": [
           {
            "error_x": {
             "color": "#2a3f5f"
            },
            "error_y": {
             "color": "#2a3f5f"
            },
            "marker": {
             "line": {
              "color": "#E5ECF6",
              "width": 0.5
             },
             "pattern": {
              "fillmode": "overlay",
              "size": 10,
              "solidity": 0.2
             }
            },
            "type": "bar"
           }
          ],
          "barpolar": [
           {
            "marker": {
             "line": {
              "color": "#E5ECF6",
              "width": 0.5
             },
             "pattern": {
              "fillmode": "overlay",
              "size": 10,
              "solidity": 0.2
             }
            },
            "type": "barpolar"
           }
          ],
          "carpet": [
           {
            "aaxis": {
             "endlinecolor": "#2a3f5f",
             "gridcolor": "white",
             "linecolor": "white",
             "minorgridcolor": "white",
             "startlinecolor": "#2a3f5f"
            },
            "baxis": {
             "endlinecolor": "#2a3f5f",
             "gridcolor": "white",
             "linecolor": "white",
             "minorgridcolor": "white",
             "startlinecolor": "#2a3f5f"
            },
            "type": "carpet"
           }
          ],
          "choropleth": [
           {
            "colorbar": {
             "outlinewidth": 0,
             "ticks": ""
            },
            "type": "choropleth"
           }
          ],
          "contour": [
           {
            "colorbar": {
             "outlinewidth": 0,
             "ticks": ""
            },
            "colorscale": [
             [
              0,
              "#0d0887"
             ],
             [
              0.1111111111111111,
              "#46039f"
             ],
             [
              0.2222222222222222,
              "#7201a8"
             ],
             [
              0.3333333333333333,
              "#9c179e"
             ],
             [
              0.4444444444444444,
              "#bd3786"
             ],
             [
              0.5555555555555556,
              "#d8576b"
             ],
             [
              0.6666666666666666,
              "#ed7953"
             ],
             [
              0.7777777777777778,
              "#fb9f3a"
             ],
             [
              0.8888888888888888,
              "#fdca26"
             ],
             [
              1,
              "#f0f921"
             ]
            ],
            "type": "contour"
           }
          ],
          "contourcarpet": [
           {
            "colorbar": {
             "outlinewidth": 0,
             "ticks": ""
            },
            "type": "contourcarpet"
           }
          ],
          "heatmap": [
           {
            "colorbar": {
             "outlinewidth": 0,
             "ticks": ""
            },
            "colorscale": [
             [
              0,
              "#0d0887"
             ],
             [
              0.1111111111111111,
              "#46039f"
             ],
             [
              0.2222222222222222,
              "#7201a8"
             ],
             [
              0.3333333333333333,
              "#9c179e"
             ],
             [
              0.4444444444444444,
              "#bd3786"
             ],
             [
              0.5555555555555556,
              "#d8576b"
             ],
             [
              0.6666666666666666,
              "#ed7953"
             ],
             [
              0.7777777777777778,
              "#fb9f3a"
             ],
             [
              0.8888888888888888,
              "#fdca26"
             ],
             [
              1,
              "#f0f921"
             ]
            ],
            "type": "heatmap"
           }
          ],
          "heatmapgl": [
           {
            "colorbar": {
             "outlinewidth": 0,
             "ticks": ""
            },
            "colorscale": [
             [
              0,
              "#0d0887"
             ],
             [
              0.1111111111111111,
              "#46039f"
             ],
             [
              0.2222222222222222,
              "#7201a8"
             ],
             [
              0.3333333333333333,
              "#9c179e"
             ],
             [
              0.4444444444444444,
              "#bd3786"
             ],
             [
              0.5555555555555556,
              "#d8576b"
             ],
             [
              0.6666666666666666,
              "#ed7953"
             ],
             [
              0.7777777777777778,
              "#fb9f3a"
             ],
             [
              0.8888888888888888,
              "#fdca26"
             ],
             [
              1,
              "#f0f921"
             ]
            ],
            "type": "heatmapgl"
           }
          ],
          "histogram": [
           {
            "marker": {
             "pattern": {
              "fillmode": "overlay",
              "size": 10,
              "solidity": 0.2
             }
            },
            "type": "histogram"
           }
          ],
          "histogram2d": [
           {
            "colorbar": {
             "outlinewidth": 0,
             "ticks": ""
            },
            "colorscale": [
             [
              0,
              "#0d0887"
             ],
             [
              0.1111111111111111,
              "#46039f"
             ],
             [
              0.2222222222222222,
              "#7201a8"
             ],
             [
              0.3333333333333333,
              "#9c179e"
             ],
             [
              0.4444444444444444,
              "#bd3786"
             ],
             [
              0.5555555555555556,
              "#d8576b"
             ],
             [
              0.6666666666666666,
              "#ed7953"
             ],
             [
              0.7777777777777778,
              "#fb9f3a"
             ],
             [
              0.8888888888888888,
              "#fdca26"
             ],
             [
              1,
              "#f0f921"
             ]
            ],
            "type": "histogram2d"
           }
          ],
          "histogram2dcontour": [
           {
            "colorbar": {
             "outlinewidth": 0,
             "ticks": ""
            },
            "colorscale": [
             [
              0,
              "#0d0887"
             ],
             [
              0.1111111111111111,
              "#46039f"
             ],
             [
              0.2222222222222222,
              "#7201a8"
             ],
             [
              0.3333333333333333,
              "#9c179e"
             ],
             [
              0.4444444444444444,
              "#bd3786"
             ],
             [
              0.5555555555555556,
              "#d8576b"
             ],
             [
              0.6666666666666666,
              "#ed7953"
             ],
             [
              0.7777777777777778,
              "#fb9f3a"
             ],
             [
              0.8888888888888888,
              "#fdca26"
             ],
             [
              1,
              "#f0f921"
             ]
            ],
            "type": "histogram2dcontour"
           }
          ],
          "mesh3d": [
           {
            "colorbar": {
             "outlinewidth": 0,
             "ticks": ""
            },
            "type": "mesh3d"
           }
          ],
          "parcoords": [
           {
            "line": {
             "colorbar": {
              "outlinewidth": 0,
              "ticks": ""
             }
            },
            "type": "parcoords"
           }
          ],
          "pie": [
           {
            "automargin": true,
            "type": "pie"
           }
          ],
          "scatter": [
           {
            "fillpattern": {
             "fillmode": "overlay",
             "size": 10,
             "solidity": 0.2
            },
            "type": "scatter"
           }
          ],
          "scatter3d": [
           {
            "line": {
             "colorbar": {
              "outlinewidth": 0,
              "ticks": ""
             }
            },
            "marker": {
             "colorbar": {
              "outlinewidth": 0,
              "ticks": ""
             }
            },
            "type": "scatter3d"
           }
          ],
          "scattercarpet": [
           {
            "marker": {
             "colorbar": {
              "outlinewidth": 0,
              "ticks": ""
             }
            },
            "type": "scattercarpet"
           }
          ],
          "scattergeo": [
           {
            "marker": {
             "colorbar": {
              "outlinewidth": 0,
              "ticks": ""
             }
            },
            "type": "scattergeo"
           }
          ],
          "scattergl": [
           {
            "marker": {
             "colorbar": {
              "outlinewidth": 0,
              "ticks": ""
             }
            },
            "type": "scattergl"
           }
          ],
          "scattermapbox": [
           {
            "marker": {
             "colorbar": {
              "outlinewidth": 0,
              "ticks": ""
             }
            },
            "type": "scattermapbox"
           }
          ],
          "scatterpolar": [
           {
            "marker": {
             "colorbar": {
              "outlinewidth": 0,
              "ticks": ""
             }
            },
            "type": "scatterpolar"
           }
          ],
          "scatterpolargl": [
           {
            "marker": {
             "colorbar": {
              "outlinewidth": 0,
              "ticks": ""
             }
            },
            "type": "scatterpolargl"
           }
          ],
          "scatterternary": [
           {
            "marker": {
             "colorbar": {
              "outlinewidth": 0,
              "ticks": ""
             }
            },
            "type": "scatterternary"
           }
          ],
          "surface": [
           {
            "colorbar": {
             "outlinewidth": 0,
             "ticks": ""
            },
            "colorscale": [
             [
              0,
              "#0d0887"
             ],
             [
              0.1111111111111111,
              "#46039f"
             ],
             [
              0.2222222222222222,
              "#7201a8"
             ],
             [
              0.3333333333333333,
              "#9c179e"
             ],
             [
              0.4444444444444444,
              "#bd3786"
             ],
             [
              0.5555555555555556,
              "#d8576b"
             ],
             [
              0.6666666666666666,
              "#ed7953"
             ],
             [
              0.7777777777777778,
              "#fb9f3a"
             ],
             [
              0.8888888888888888,
              "#fdca26"
             ],
             [
              1,
              "#f0f921"
             ]
            ],
            "type": "surface"
           }
          ],
          "table": [
           {
            "cells": {
             "fill": {
              "color": "#EBF0F8"
             },
             "line": {
              "color": "white"
             }
            },
            "header": {
             "fill": {
              "color": "#C8D4E3"
             },
             "line": {
              "color": "white"
             }
            },
            "type": "table"
           }
          ]
         },
         "layout": {
          "annotationdefaults": {
           "arrowcolor": "#2a3f5f",
           "arrowhead": 0,
           "arrowwidth": 1
          },
          "autotypenumbers": "strict",
          "coloraxis": {
           "colorbar": {
            "outlinewidth": 0,
            "ticks": ""
           }
          },
          "colorscale": {
           "diverging": [
            [
             0,
             "#8e0152"
            ],
            [
             0.1,
             "#c51b7d"
            ],
            [
             0.2,
             "#de77ae"
            ],
            [
             0.3,
             "#f1b6da"
            ],
            [
             0.4,
             "#fde0ef"
            ],
            [
             0.5,
             "#f7f7f7"
            ],
            [
             0.6,
             "#e6f5d0"
            ],
            [
             0.7,
             "#b8e186"
            ],
            [
             0.8,
             "#7fbc41"
            ],
            [
             0.9,
             "#4d9221"
            ],
            [
             1,
             "#276419"
            ]
           ],
           "sequential": [
            [
             0,
             "#0d0887"
            ],
            [
             0.1111111111111111,
             "#46039f"
            ],
            [
             0.2222222222222222,
             "#7201a8"
            ],
            [
             0.3333333333333333,
             "#9c179e"
            ],
            [
             0.4444444444444444,
             "#bd3786"
            ],
            [
             0.5555555555555556,
             "#d8576b"
            ],
            [
             0.6666666666666666,
             "#ed7953"
            ],
            [
             0.7777777777777778,
             "#fb9f3a"
            ],
            [
             0.8888888888888888,
             "#fdca26"
            ],
            [
             1,
             "#f0f921"
            ]
           ],
           "sequentialminus": [
            [
             0,
             "#0d0887"
            ],
            [
             0.1111111111111111,
             "#46039f"
            ],
            [
             0.2222222222222222,
             "#7201a8"
            ],
            [
             0.3333333333333333,
             "#9c179e"
            ],
            [
             0.4444444444444444,
             "#bd3786"
            ],
            [
             0.5555555555555556,
             "#d8576b"
            ],
            [
             0.6666666666666666,
             "#ed7953"
            ],
            [
             0.7777777777777778,
             "#fb9f3a"
            ],
            [
             0.8888888888888888,
             "#fdca26"
            ],
            [
             1,
             "#f0f921"
            ]
           ]
          },
          "colorway": [
           "#636efa",
           "#EF553B",
           "#00cc96",
           "#ab63fa",
           "#FFA15A",
           "#19d3f3",
           "#FF6692",
           "#B6E880",
           "#FF97FF",
           "#FECB52"
          ],
          "font": {
           "color": "#2a3f5f"
          },
          "geo": {
           "bgcolor": "white",
           "lakecolor": "white",
           "landcolor": "#E5ECF6",
           "showlakes": true,
           "showland": true,
           "subunitcolor": "white"
          },
          "hoverlabel": {
           "align": "left"
          },
          "hovermode": "closest",
          "mapbox": {
           "style": "light"
          },
          "paper_bgcolor": "white",
          "plot_bgcolor": "#E5ECF6",
          "polar": {
           "angularaxis": {
            "gridcolor": "white",
            "linecolor": "white",
            "ticks": ""
           },
           "bgcolor": "#E5ECF6",
           "radialaxis": {
            "gridcolor": "white",
            "linecolor": "white",
            "ticks": ""
           }
          },
          "scene": {
           "xaxis": {
            "backgroundcolor": "#E5ECF6",
            "gridcolor": "white",
            "gridwidth": 2,
            "linecolor": "white",
            "showbackground": true,
            "ticks": "",
            "zerolinecolor": "white"
           },
           "yaxis": {
            "backgroundcolor": "#E5ECF6",
            "gridcolor": "white",
            "gridwidth": 2,
            "linecolor": "white",
            "showbackground": true,
            "ticks": "",
            "zerolinecolor": "white"
           },
           "zaxis": {
            "backgroundcolor": "#E5ECF6",
            "gridcolor": "white",
            "gridwidth": 2,
            "linecolor": "white",
            "showbackground": true,
            "ticks": "",
            "zerolinecolor": "white"
           }
          },
          "shapedefaults": {
           "line": {
            "color": "#2a3f5f"
           }
          },
          "ternary": {
           "aaxis": {
            "gridcolor": "white",
            "linecolor": "white",
            "ticks": ""
           },
           "baxis": {
            "gridcolor": "white",
            "linecolor": "white",
            "ticks": ""
           },
           "bgcolor": "#E5ECF6",
           "caxis": {
            "gridcolor": "white",
            "linecolor": "white",
            "ticks": ""
           }
          },
          "title": {
           "x": 0.05
          },
          "xaxis": {
           "automargin": true,
           "gridcolor": "white",
           "linecolor": "white",
           "ticks": "",
           "title": {
            "standoff": 15
           },
           "zerolinecolor": "white",
           "zerolinewidth": 2
          },
          "yaxis": {
           "automargin": true,
           "gridcolor": "white",
           "linecolor": "white",
           "ticks": "",
           "title": {
            "standoff": 15
           },
           "zerolinecolor": "white",
           "zerolinewidth": 2
          }
         }
        },
        "xaxis": {
         "anchor": "y",
         "domain": [
          0,
          1
         ],
         "tickvals": [
          1,
          5,
          10
         ],
         "title": {
          "text": "Scale Factor"
         }
        },
        "yaxis": {
         "anchor": "x",
         "domain": [
          0,
          1
         ],
         "title": {
          "text": "Size (MB)"
         }
        }
       }
      }
     },
     "metadata": {},
     "output_type": "display_data"
    }
   ],
   "source": [
    "sf_db_sizes = []\n",
    "for sf in scale_factors:\n",
    "    db_name = f\"databases/ssb_sf{sf}.db\"\n",
    "    db_size = round(os.path.getsize(db_name) / (1024 * 1024), 0)\n",
    "    sf_db_sizes.append({\"scale_factor\": sf, \"size\": db_size})\n",
    "    \n",
    "df = pd.DataFrame(sf_db_sizes)\n",
    "fig = px.bar(df, x='scale_factor', y='size', text='size', labels=dict(scale_factor=\"Scale Factor\", size=\"Size (MB)\"))\n",
    "fig.update_traces(texttemplate='%{text:.0f} MB', textposition='inside')\n",
    "fig.update_xaxes(tickvals=[1,5,10])\n",
    "fig.show()"
   ]
  },
  {
   "cell_type": "markdown",
   "metadata": {},
   "source": [
    "## Queries (https://clickhouse.com/docs/en/getting-started/example-datasets/star-schema)"
   ]
  },
  {
   "cell_type": "code",
   "execution_count": 5,
   "metadata": {},
   "outputs": [],
   "source": [
    "queries = {\n",
    "    \"Query1\": \"\"\"\n",
    "        SELECT\n",
    "              D_YEAR,\n",
    "              S_CITY,\n",
    "              P_BRAND,\n",
    "              sum(LO_REVENUE - LO_SUPPLYCOST) AS profit\n",
    "        FROM\n",
    "              date,\n",
    "              customer,\n",
    "              supplier,\n",
    "              part,\n",
    "              lineorder\n",
    "        WHERE\n",
    "              LO_CUSTKEY = C_CUSTKEY\n",
    "              AND LO_SUPPKEY = S_SUPPKEY\n",
    "              AND LO_PARTKEY = P_PARTKEY\n",
    "              AND LO_ORDERDATE = D_DATEKEY\n",
    "              AND C_REGION = 'AMERICA'\n",
    "              AND S_NATION = 'UNITED STATES'\n",
    "              AND (D_YEAR = 1997 OR D_YEAR = 1998)\n",
    "              AND P_CATEGORY = 'MFGR#14'\n",
    "        GROUP BY\n",
    "              D_YEAR,\n",
    "              S_CITY,\n",
    "              P_BRAND\n",
    "        ORDER BY\n",
    "              D_YEAR,\n",
    "              S_CITY,\n",
    "              P_BRAND\n",
    "        \"\"\",\n",
    "    \n",
    "    \"Query2\": \"\"\"\n",
    "        SELECT\n",
    "            sum(LO_EXTENDEDPRICE * LO_DISCOUNT) AS REVENUE\n",
    "        FROM\n",
    "            lineorder,\n",
    "            date\n",
    "        WHERE\n",
    "            LO_ORDERDATE = D_DATEKEY\n",
    "            AND D_YEARMONTHNUM = 199401\n",
    "            AND LO_DISCOUNT BETWEEN 4 AND 6\n",
    "            AND LO_QUANTITY BETWEEN 26 AND 35;\n",
    "        \"\"\",\n",
    "    \n",
    "    \"Query3\": \"\"\"\n",
    "        SELECT\n",
    "            C_NATION,\n",
    "            S_NATION,\n",
    "            D_YEAR,\n",
    "            sum(LO_REVENUE) AS REVENUE\n",
    "        FROM\n",
    "            customer,\n",
    "            lineorder,\n",
    "            supplier,\n",
    "            date\n",
    "        WHERE\n",
    "            LO_CUSTKEY = C_CUSTKEY\n",
    "            AND LO_SUPPKEY = S_SUPPKEY\n",
    "            AND LO_ORDERDATE = D_DATEKEY\n",
    "            AND C_REGION = 'ASIA' AND S_REGION = 'ASIA'\n",
    "            AND D_YEAR >= 1992 AND D_YEAR <= 1997\n",
    "        GROUP BY\n",
    "            C_NATION,\n",
    "            S_NATION,\n",
    "            D_YEAR\n",
    "        ORDER BY\n",
    "            D_YEAR ASC,\n",
    "            REVENUE DESC;\n",
    "            \"\"\"\n",
    "    }"
   ]
  },
  {
   "cell_type": "markdown",
   "metadata": {},
   "source": [
    "## Performance Experiments"
   ]
  },
  {
   "cell_type": "markdown",
   "metadata": {},
   "source": [
    "### Varying thread counts for scaling factor 10"
   ]
  },
  {
   "cell_type": "code",
   "execution_count": 6,
   "metadata": {},
   "outputs": [
    {
     "name": "stdout",
     "output_type": "stream",
     "text": [
      "\n",
      "--- Experiment 1: Varying thread counts --- \n",
      "\n",
      "All results for Query1 with scaling factor 10 and thread count 1 saved to 'results/Query1_sf10_thread_count_1_all_runs.txt'\n",
      "\n",
      "All results for Query1 with scaling factor 10 and thread count 4 saved to 'results/Query1_sf10_thread_count_4_all_runs.txt'\n",
      "\n",
      "All results for Query1 with scaling factor 10 and thread count 8 saved to 'results/Query1_sf10_thread_count_8_all_runs.txt'\n",
      "\n",
      "All results for Query2 with scaling factor 10 and thread count 1 saved to 'results/Query2_sf10_thread_count_1_all_runs.txt'\n",
      "\n",
      "All results for Query2 with scaling factor 10 and thread count 4 saved to 'results/Query2_sf10_thread_count_4_all_runs.txt'\n",
      "\n",
      "All results for Query2 with scaling factor 10 and thread count 8 saved to 'results/Query2_sf10_thread_count_8_all_runs.txt'\n",
      "\n",
      "All results for Query3 with scaling factor 10 and thread count 1 saved to 'results/Query3_sf10_thread_count_1_all_runs.txt'\n",
      "\n",
      "All results for Query3 with scaling factor 10 and thread count 4 saved to 'results/Query3_sf10_thread_count_4_all_runs.txt'\n",
      "\n",
      "All results for Query3 with scaling factor 10 and thread count 8 saved to 'results/Query3_sf10_thread_count_8_all_runs.txt'\n",
      "\n"
     ]
    }
   ],
   "source": [
    "sf = 10\n",
    "db_name = f\"databases/ssb_sf{sf}.db\"\n",
    "con = duckdb.connect(db_name)\n",
    "\n",
    "num_repetitions = 5\n",
    "results_dir = \"results\"\n",
    "os.makedirs(results_dir, exist_ok=True)\n",
    "\n",
    "print(\"\\n--- Experiment 1: Varying thread counts --- \\n\")\n",
    "thread_counts = [1, 4, 8]\n",
    "\n",
    "for query_name, query in queries.items():\n",
    "    for threads in thread_counts:\n",
    "        file_path = os.path.join(results_dir, f\"{query_name}_sf{sf}_thread_count_{threads}_all_runs.txt\")\n",
    "        with open(file_path, 'w') as file:\n",
    "            file.write(f\"Results for {query_name} with scaling factor {sf} and thread count {threads}:\\n\")\n",
    "        \n",
    "        con.execute(f\"SET threads = {threads};\")\n",
    "        con.execute(f\"PRAGMA enable_profiling = query_tree;\")\n",
    "\n",
    "        for i in range(num_repetitions):\n",
    "            result = con.execute(f\"EXPLAIN ANALYZE {query}\").fetchall()\n",
    "            formatted_result = result[0][1].replace('\\n', '\\n') \n",
    "            with open(file_path, 'a') as file:\n",
    "                file.write(f\"\\nRun {i+1}:\\n\")\n",
    "                file.write(formatted_result)\n",
    "                file.write(\"\\n\")\n",
    "\n",
    "        print(f\"All results for {query_name} with scaling factor {sf} and thread count {threads} saved to '{file_path}'\\n\")\n",
    "\n",
    "con.close()"
   ]
  },
  {
   "cell_type": "markdown",
   "metadata": {},
   "source": [
    "### Varying scaling factors with thread count 1"
   ]
  },
  {
   "cell_type": "code",
   "execution_count": 7,
   "metadata": {},
   "outputs": [
    {
     "name": "stdout",
     "output_type": "stream",
     "text": [
      "\n",
      "--- Experiment 2: Varying scaling factors --- \n",
      "\n",
      "All results for Query1 with scaling factor 1 and thread count 1 saved to 'results/Query1_sf1_thread_count_1_all_runs.txt'\n",
      "\n",
      "All results for Query1 with scaling factor 5 and thread count 1 saved to 'results/Query1_sf5_thread_count_1_all_runs.txt'\n",
      "\n",
      "All results for Query2 with scaling factor 1 and thread count 1 saved to 'results/Query2_sf1_thread_count_1_all_runs.txt'\n",
      "\n",
      "All results for Query2 with scaling factor 5 and thread count 1 saved to 'results/Query2_sf5_thread_count_1_all_runs.txt'\n",
      "\n",
      "All results for Query3 with scaling factor 1 and thread count 1 saved to 'results/Query3_sf1_thread_count_1_all_runs.txt'\n",
      "\n",
      "All results for Query3 with scaling factor 5 and thread count 1 saved to 'results/Query3_sf5_thread_count_1_all_runs.txt'\n",
      "\n"
     ]
    }
   ],
   "source": [
    "threads = 1\n",
    "scale_factors = [1, 5]\n",
    "results_dir = \"results\"\n",
    "os.makedirs(results_dir, exist_ok=True)\n",
    "\n",
    "print(\"\\n--- Experiment 2: Varying scaling factors --- \\n\")\n",
    "for query_name, query in queries.items():\n",
    "    for sf in scale_factors:\n",
    "        db_name = f\"databases/ssb_sf{sf}.db\"\n",
    "        con = duckdb.connect(db_name)\n",
    "        con.execute(f\"SET threads = {threads};\")\n",
    "        con.execute(f\"PRAGMA enable_profiling = query_tree;\")\n",
    "\n",
    "        file_path = os.path.join(results_dir, f\"{query_name}_sf{sf}_thread_count_1_all_runs.txt\")\n",
    "        with open(file_path, 'w') as file:\n",
    "            file.write(f\"Results for {query_name} with scaling factor {sf} and thread count 1:\\n\")\n",
    "\n",
    "        for i in range(num_repetitions):\n",
    "            result = con.execute(f\"EXPLAIN ANALYZE {query}\").fetchall()\n",
    "            formatted_result = result[0][1].replace('\\n', '\\n')\n",
    "            with open(file_path, 'a') as file:\n",
    "                file.write(f\"\\nRun {i+1}:\\n\")\n",
    "                file.write(formatted_result)\n",
    "                file.write(\"\\n\")\n",
    "\n",
    "        print(f\"All results for {query_name} with scaling factor {sf} and thread count {threads} saved to '{file_path}'\\n\")\n",
    "        con.close()"
   ]
  }
 ],
 "metadata": {
  "kernelspec": {
   "display_name": ".venv",
   "language": "python",
   "name": "python3"
  },
  "language_info": {
   "codemirror_mode": {
    "name": "ipython",
    "version": 3
   },
   "file_extension": ".py",
   "mimetype": "text/x-python",
   "name": "python",
   "nbconvert_exporter": "python",
   "pygments_lexer": "ipython3",
   "version": "3.12.6"
  }
 },
 "nbformat": 4,
 "nbformat_minor": 2
}
